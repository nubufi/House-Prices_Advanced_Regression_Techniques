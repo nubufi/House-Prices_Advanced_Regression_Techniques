{
 "cells": [
  {
   "cell_type": "code",
   "execution_count": 1,
   "metadata": {},
   "outputs": [],
   "source": [
    "import pandas as pd\n",
    "import numpy as np"
   ]
  },
  {
   "cell_type": "code",
   "execution_count": 2,
   "metadata": {},
   "outputs": [],
   "source": [
    "training_data = pd.read_csv(\"./dataset/processed_training_data.csv\")\n",
    "test_data = pd.read_csv(\"./dataset/processed_test_data.csv\")\n",
    "\n"
   ]
  },
  {
   "cell_type": "markdown",
   "metadata": {},
   "source": [
    "#### Preprocessing"
   ]
  },
  {
   "cell_type": "code",
   "execution_count": 3,
   "metadata": {},
   "outputs": [],
   "source": [
    "from sklearn.preprocessing import OneHotEncoder,StandardScaler\n",
    "from sklearn.compose import ColumnTransformer\n",
    "import numpy as np\n",
    "\n",
    "numerical_features = training_data.select_dtypes(include='number').columns.tolist()\n",
    "categorical_features = training_data.select_dtypes(include='object').columns.tolist()\n",
    "\n",
    "column_transformer = ColumnTransformer(\n",
    "        transformers=[\n",
    "            ('scaler',StandardScaler(),numerical_features),\n",
    "            ('encoder', OneHotEncoder(handle_unknown=\"ignore\"), categorical_features)\n",
    "        ],\n",
    "        remainder='passthrough',\n",
    "    )\n",
    "\n",
    "processed_features = column_transformer.fit_transform(training_data).toarray()\n",
    "\n",
    "# Get the list of all the features after transformation\n",
    "encoded_cat_columns = column_transformer.named_transformers_['encoder'] \\\n",
    "                                          .get_feature_names_out(input_features=categorical_features)\n",
    "all_column_names = numerical_features+list(encoded_cat_columns)\n",
    "processed_df = pd.DataFrame(processed_features, columns=all_column_names)\n",
    "\n",
    "# Process the test data\n",
    "processed_test_data = test_data.copy()\n",
    "processed_test_data[\"SalePrice\"] = np.ones(test_data.shape[0])\n",
    "processed_test_data.drop(\"Id\", axis=1, inplace=True)\n",
    "\n",
    "processed_test_features = column_transformer.transform(processed_test_data).toarray()\n",
    "processed_test_df = pd.DataFrame(processed_test_features, columns=all_column_names)"
   ]
  },
  {
   "cell_type": "markdown",
   "metadata": {},
   "source": [
    "#### Splitting the data into training and testing sets"
   ]
  },
  {
   "cell_type": "code",
   "execution_count": 4,
   "metadata": {},
   "outputs": [],
   "source": [
    "from sklearn.model_selection import train_test_split\n",
    "\n",
    "X = processed_df.drop(\"SalePrice\", axis=1)\n",
    "y = processed_df[\"SalePrice\"]\n",
    "\n",
    "\n",
    "X_train, X_test, y_train, y_test = train_test_split(X,y, test_size=0.2)"
   ]
  },
  {
   "cell_type": "markdown",
   "metadata": {},
   "source": [
    "#### Create GridSearchCV Function"
   ]
  },
  {
   "cell_type": "code",
   "execution_count": 13,
   "metadata": {},
   "outputs": [],
   "source": [
    "from sklearn.model_selection import GridSearchCV\n",
    "def get_best_model(regressor,params):\n",
    "    grid_search = GridSearchCV(regressor, params, cv=5, scoring='r2')\n",
    "    grid_search.fit(X_train, y_train)\n",
    "\n",
    "    print(\"Best cross-validation score: {:.2f}\".format(grid_search.best_score_))\n",
    "\n",
    "    return grid_search.best_params_"
   ]
  },
  {
   "cell_type": "markdown",
   "metadata": {},
   "source": [
    "#### Create Regression Models"
   ]
  },
  {
   "cell_type": "markdown",
   "metadata": {},
   "source": [
    "#### Random Forest"
   ]
  },
  {
   "cell_type": "code",
   "execution_count": 9,
   "metadata": {},
   "outputs": [
    {
     "name": "stdout",
     "output_type": "stream",
     "text": [
      "Best cross-validation score: 0.80\n"
     ]
    }
   ],
   "source": [
    "from sklearn.ensemble import RandomForestRegressor\n",
    "\n",
    "rf = RandomForestRegressor()\n",
    "rf_params: dict = {\n",
    "        \"max_depth\": [8, 15, None],\n",
    "        \"max_features\": [5, 7],\n",
    "        \"min_samples_split\": [15, 20],\n",
    "        \"n_estimators\": [100,200, 300],\n",
    "    }\n",
    "rf_model_params = get_best_model(rf, rf_params)"
   ]
  },
  {
   "cell_type": "markdown",
   "metadata": {},
   "source": [
    "##### Gradient Boosting"
   ]
  },
  {
   "cell_type": "code",
   "execution_count": 14,
   "metadata": {},
   "outputs": [
    {
     "name": "stdout",
     "output_type": "stream",
     "text": [
      "Best cross-validation score: 0.88\n"
     ]
    }
   ],
   "source": [
    "from sklearn.ensemble import GradientBoostingRegressor\n",
    "\n",
    "gb = GradientBoostingRegressor()\n",
    "gb_params: dict = {\n",
    "        \"max_depth\": [5, 8],\n",
    "        \"max_features\": [5, 7],\n",
    "        \"min_samples_split\": [15, 20],\n",
    "         \"learning_rate\": [0.01, 0.1],\n",
    "        \"n_estimators\": [100,200, 300],\n",
    "    }\n",
    "\n",
    "gb_model_params = get_best_model(gb, gb_params)"
   ]
  },
  {
   "cell_type": "markdown",
   "metadata": {},
   "source": [
    "##### AdaBoost"
   ]
  },
  {
   "cell_type": "code",
   "execution_count": 11,
   "metadata": {},
   "outputs": [
    {
     "name": "stdout",
     "output_type": "stream",
     "text": [
      "Best cross-validation score: 0.81\n"
     ]
    }
   ],
   "source": [
    "from sklearn.ensemble import AdaBoostRegressor\n",
    "\n",
    "ada = AdaBoostRegressor()\n",
    "ada_params: dict = {\n",
    "        \"learning_rate\": [0.01, 0.1, 1],\n",
    "        \"n_estimators\": [10, 30, 50, 70, 100, 300, 500],\n",
    "    }\n",
    "\n",
    "ada_model_params = get_best_model(ada, ada_params)"
   ]
  },
  {
   "cell_type": "markdown",
   "metadata": {},
   "source": [
    "##### Decision Tree"
   ]
  },
  {
   "cell_type": "code",
   "execution_count": 12,
   "metadata": {},
   "outputs": [
    {
     "name": "stdout",
     "output_type": "stream",
     "text": [
      "Best cross-validation score: 0.72\n"
     ]
    }
   ],
   "source": [
    "from sklearn.tree import DecisionTreeRegressor\n",
    "\n",
    "dt = DecisionTreeRegressor()\n",
    "dt_params: dict = {\"max_depth\": [None, *range(1, 10)], \"min_samples_split\": range(2, 30)}\n",
    "\n",
    "dt_model_params = get_best_model(dt, dt_params)"
   ]
  },
  {
   "cell_type": "markdown",
   "metadata": {},
   "source": [
    "#### Train The Best Model With Whole Training Set"
   ]
  },
  {
   "cell_type": "code",
   "execution_count": 18,
   "metadata": {},
   "outputs": [],
   "source": [
    "# Gradient Boosting gave the best results\n",
    "x_test = processed_test_df.drop(\"SalePrice\", axis=1)\n",
    "x_test[\"BsmtUnfSF\"] = x_test[\"BsmtUnfSF\"].fillna(x_test[\"BsmtUnfSF\"].mean())\n",
    "x_test[\"BsmtFullBath\"] = x_test[\"BsmtFullBath\"].fillna(x_test[\"BsmtFullBath\"].mean())\n",
    "x_test[\"GarageArea\"] = x_test[\"GarageArea\"].fillna(x_test[\"GarageArea\"].mean())"
   ]
  },
  {
   "cell_type": "code",
   "execution_count": 20,
   "metadata": {},
   "outputs": [],
   "source": [
    "gb = GradientBoostingRegressor(**gb_model_params)\n",
    "gb.fit(X, y)\n",
    "\n",
    "pred_scaled = gb.predict(x_test)\n",
    "\n",
    "test_data[\"SalePrice\"] = pred_scaled.reshape(-1)\n",
    "test_data[numerical_features] = column_transformer.named_transformers_['scaler'].inverse_transform(test_data[numerical_features])"
   ]
  },
  {
   "cell_type": "code",
   "execution_count": 21,
   "metadata": {},
   "outputs": [],
   "source": [
    "submission = pd.DataFrame()\n",
    "submission[\"Id\"] = test_data[\"Id\"]\n",
    "submission[\"SalePrice\"] = test_data[\"SalePrice\"]\n",
    "submission[\"SalePrice\"].fillna(submission[\"SalePrice\"].mean(),inplace=True)\n",
    "submission.to_csv(\"./dataset/submission_ml.csv\",index=False)"
   ]
  }
 ],
 "metadata": {
  "kernelspec": {
   "display_name": ".venv",
   "language": "python",
   "name": "python3"
  },
  "language_info": {
   "codemirror_mode": {
    "name": "ipython",
    "version": 3
   },
   "file_extension": ".py",
   "mimetype": "text/x-python",
   "name": "python",
   "nbconvert_exporter": "python",
   "pygments_lexer": "ipython3",
   "version": "3.10.10"
  },
  "orig_nbformat": 4
 },
 "nbformat": 4,
 "nbformat_minor": 2
}
